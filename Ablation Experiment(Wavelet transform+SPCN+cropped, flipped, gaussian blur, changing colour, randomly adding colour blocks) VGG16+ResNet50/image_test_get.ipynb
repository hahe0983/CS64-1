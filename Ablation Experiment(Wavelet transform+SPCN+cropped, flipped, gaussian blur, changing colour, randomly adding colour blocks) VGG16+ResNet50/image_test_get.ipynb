{
 "cells": [
  {
   "cell_type": "code",
   "execution_count": 3,
   "id": "initial_id",
   "metadata": {
    "collapsed": true,
    "ExecuteTime": {
     "end_time": "2024-09-08T15:53:53.215693Z",
     "start_time": "2024-09-08T15:53:53.180889Z"
    }
   },
   "outputs": [
    {
     "name": "stdout",
     "output_type": "stream",
     "text": [
      "Copied 150_CRC_TUM_0.png to ../imgs/01_TUM\n",
      "Copied 150_CRC_MUSC_STROMA_0.png to ../imgs/02_MUSC_STROMA\n",
      "Copied 150_CRC_LYM_0.png to ../imgs/03_LYM\n",
      "Copied 150_CRC_NORM_0.png to ../imgs/05_NORM\n",
      "Copied 150_CRC_DEBRIS_MUCUS_0.png to ../imgs/04_DEBRIS_MUCUS\n",
      "Copied 150_CRC_ADI_0.png to ../imgs/06_ADI\n"
     ]
    }
   ],
   "source": [
    "import os\n",
    "import shutil\n",
    "\n",
    "def transfer_images(source_folder, destination_folder, num_images=1):\n",
    "    # Create the destination folder if it doesn't exist\n",
    "    if not os.path.exists(destination_folder):\n",
    "        os.makedirs(destination_folder)\n",
    "\n",
    "    # Walk through the source folder\n",
    "    for root, dirs, files in os.walk(source_folder):\n",
    "        # Filter image files (you can add more extensions if needed)\n",
    "        image_files = [f for f in files if f.lower().endswith(('.png', '.jpg', '.jpeg', '.gif', '.bmp'))]\n",
    "\n",
    "        # Sort the files to ensure consistent selection\n",
    "        image_files.sort()\n",
    "\n",
    "        # Select the first 'num_images' files\n",
    "        selected_images = image_files[:num_images]\n",
    "\n",
    "        # Get the relative path of the current subfolder\n",
    "        rel_path = os.path.relpath(root, source_folder)\n",
    "\n",
    "        # Create the corresponding subfolder in the destination\n",
    "        dest_subfolder = os.path.join(destination_folder, rel_path)\n",
    "        if not os.path.exists(dest_subfolder):\n",
    "            os.makedirs(dest_subfolder)\n",
    "\n",
    "        # Copy the selected images to the destination subfolder\n",
    "        for image in selected_images:\n",
    "            source_path = os.path.join(root, image)\n",
    "            dest_path = os.path.join(dest_subfolder, image)\n",
    "            shutil.copy2(source_path, dest_path)\n",
    "            print(f\"Copied {image} to {dest_subfolder}\")\n",
    "\n",
    "# Example usage\n",
    "source_folder = \"../../out_put_150/CRC_150p\"\n",
    "destination_folder = \"../imgs\"\n",
    "transfer_images(source_folder, destination_folder)"
   ]
  },
  {
   "cell_type": "code",
   "execution_count": null,
   "outputs": [],
   "source": [],
   "metadata": {
    "collapsed": false
   },
   "id": "29b1a1272520f665"
  }
 ],
 "metadata": {
  "kernelspec": {
   "display_name": "Python 3",
   "language": "python",
   "name": "python3"
  },
  "language_info": {
   "codemirror_mode": {
    "name": "ipython",
    "version": 2
   },
   "file_extension": ".py",
   "mimetype": "text/x-python",
   "name": "python",
   "nbconvert_exporter": "python",
   "pygments_lexer": "ipython2",
   "version": "2.7.6"
  }
 },
 "nbformat": 4,
 "nbformat_minor": 5
}
